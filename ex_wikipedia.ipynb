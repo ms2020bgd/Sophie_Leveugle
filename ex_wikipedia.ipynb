{
 "cells": [
  {
   "cell_type": "code",
   "execution_count": null,
   "metadata": {},
   "outputs": [],
   "source": [
    "# Source : \n",
    "#https://github.com/wblakecannon/udacity-dand/edit/master/Ex6-Intro-to-Python-Programming/wiki-web-crawl/wikipedia-crawler.py"
   ]
  },
  {
   "cell_type": "code",
   "execution_count": 20,
   "metadata": {},
   "outputs": [],
   "source": [
    "import time\n",
    "import urllib\n",
    "import bs4 #beautifulsoup\n",
    "import requests"
   ]
  },
  {
   "cell_type": "code",
   "execution_count": 21,
   "metadata": {},
   "outputs": [],
   "source": [
    "start_url = \"https://fr.wikipedia.org/wiki/Grec\"\n",
    "target_url = \"https://fr.wikipedia.org/wiki/Philosophie\""
   ]
  },
  {
   "cell_type": "code",
   "execution_count": 36,
   "metadata": {},
   "outputs": [
    {
     "name": "stdout",
     "output_type": "stream",
     "text": [
      "https://fr.wikipedia.org/wiki/Grec\n",
      "https://fr.wikipedia.org/wiki/Grec_moderne\n",
      "https://fr.wikipedia.org/wiki/Langue\n",
      "https://fr.wikipedia.org/wiki/Syst%C3%A8me\n",
      "https://fr.wikipedia.org/wiki/Ensemble\n",
      "https://fr.wikipedia.org/wiki/Math%C3%A9matiques\n",
      "https://fr.wikipedia.org/wiki/Connaissance\n",
      "https://fr.wikipedia.org/wiki/Notion\n",
      "https://fr.wikipedia.org/wiki/Esprit\n",
      "https://fr.wikipedia.org/wiki/Ph%C3%A9nom%C3%A8ne\n",
      "https://fr.wikipedia.org/wiki/Chose_(philosophie)\n",
      "We've found the target article!\n",
      "La distance parcourue entre ces 2 articles est : 11\n"
     ]
    }
   ],
   "source": [
    "def find_first_link(url):\n",
    "    response = requests.get(url) \n",
    "    html = response.text\n",
    "    soup = bs4.BeautifulSoup(html, \"html.parser\")\n",
    "\n",
    "    # This div contains the article's body\n",
    "    content_div = soup.find(\n",
    "        id=\"mw-content-text\").find(class_=\"mw-parser-output\")\n",
    "\n",
    "    # stores the first link found in the article, if the article contains no\n",
    "    # links this value will remain None\n",
    "    article_link = None # on initialise le lien suivant à none\n",
    "\n",
    "    # Find all the direct children of content_div that are paragraphs\n",
    "    for element in content_div.find_all(\"p\", recursive=False):\n",
    "        # Find the first anchor tag that's a direct child of a paragraph.\n",
    "        # It's important to only look at direct children, because other types\n",
    "        # of link, e.g. footnotes and pronunciation, could come before the\n",
    "        # first link to an article. Those other link types aren't direct\n",
    "        # children though, they're in divs of various classes.\n",
    "        \n",
    "        # on parcourt les éléments de la page et on cherche les liens les uns après les autres\n",
    "        \n",
    "        if element.find(\"a\", recursive=False):\n",
    "            article_link = element.find(\"a\", recursive=False).get('href')\n",
    "            break\n",
    "\n",
    "    if not article_link:\n",
    "        return\n",
    "\n",
    "    # Build a full url from the relative article_link url\n",
    "    first_link = urllib.parse.urljoin(\n",
    "        'https://fr.wikipedia.org/', article_link)\n",
    "\n",
    "    return first_link\n",
    "\n",
    "\n",
    "def continue_crawl(search_history, target_url, max_steps=25):\n",
    "    # pour chaque lien trouvé, on regarde s'il s'agit du lien philosophie que l'on cherche.\n",
    "    if search_history[-1] == target_url:\n",
    "        print(\"We've found the target article!\")\n",
    "        return False\n",
    "        # on pose une limite à la recherche\n",
    "    elif len(search_history) > max_steps:\n",
    "        print(\"The search has gone on suspiciously long, aborting search!\")\n",
    "        return False\n",
    "        # on vérifie si le lien récupéré a déjà été parcouru\n",
    "    elif search_history[-1] in search_history[:-1]:\n",
    "        print(\"We've arrived at an article we've already seen, aborting search!\")\n",
    "        return False\n",
    "    else:\n",
    "        return True\n",
    "\n",
    "\n",
    "article_chain = [start_url]\n",
    "\n",
    "while continue_crawl(article_chain, target_url):\n",
    "    print(article_chain[-1])\n",
    "\n",
    "    first_link = find_first_link(article_chain[-1])\n",
    "    if not first_link:\n",
    "        print(\"We've arrived at an article with no links, aborting search!\")\n",
    "        break\n",
    "\n",
    "    article_chain.append(first_link)\n",
    "\n",
    "    time.sleep(2)  # Slow things down so as to not hammer Wikipedia's servers\n",
    "\n",
    "    \n",
    "print('La distance parcourue entre ces 2 articles est : ' + str(len(article_chain)-1))"
   ]
  },
  {
   "cell_type": "code",
   "execution_count": null,
   "metadata": {},
   "outputs": [],
   "source": []
  }
 ],
 "metadata": {
  "kernelspec": {
   "display_name": "Python 3",
   "language": "python",
   "name": "python3"
  },
  "language_info": {
   "codemirror_mode": {
    "name": "ipython",
    "version": 3
   },
   "file_extension": ".py",
   "mimetype": "text/x-python",
   "name": "python",
   "nbconvert_exporter": "python",
   "pygments_lexer": "ipython3",
   "version": "3.7.3"
  }
 },
 "nbformat": 4,
 "nbformat_minor": 2
}
